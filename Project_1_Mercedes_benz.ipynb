{
 "cells": [
  {
   "cell_type": "markdown",
   "metadata": {},
   "source": [
    "# Import Libraries"
   ]
  },
  {
   "cell_type": "code",
   "execution_count": 1,
   "metadata": {},
   "outputs": [],
   "source": [
    "import pandas as pd\n",
    "import numpy as np\n",
    "from sklearn.preprocessing import LabelEncoder\n",
    "from sklearn.decomposition import PCA\n",
    "from sklearn.model_selection import train_test_split\n",
    "from sklearn import model_selection\n",
    "from sklearn.preprocessing import StandardScaler\n",
    "from sklearn.metrics import r2_score\n",
    "from sklearn.metrics import mean_squared_error\n",
    "from math import sqrt\n",
    "import xgboost as xgb\n",
    "from xgboost import XGBClassifier\n",
    "import matplotlib.pyplot as plt \n",
    "%matplotlib inline"
   ]
  },
  {
   "cell_type": "markdown",
   "metadata": {},
   "source": [
    "# Read train test data"
   ]
  },
  {
   "cell_type": "code",
   "execution_count": 2,
   "metadata": {},
   "outputs": [],
   "source": [
    "# read train data\n",
    "df_train=pd.read_csv('C:\\\\rohit\\\\simple\\\\artificial engineer\\\\machine-learning\\\\assessment\\\\train.csv')"
   ]
  },
  {
   "cell_type": "code",
   "execution_count": 3,
   "metadata": {},
   "outputs": [],
   "source": [
    "# read test data\n",
    "df_test=pd.read_csv('C:\\\\rohit\\\\simple\\\\artificial engineer\\\\machine-learning\\\\assessment\\\\test.csv')"
   ]
  },
  {
   "cell_type": "markdown",
   "metadata": {},
   "source": [
    "# Explore Data"
   ]
  },
  {
   "cell_type": "code",
   "execution_count": 4,
   "metadata": {},
   "outputs": [
    {
     "data": {
      "text/html": [
       "<div>\n",
       "<style scoped>\n",
       "    .dataframe tbody tr th:only-of-type {\n",
       "        vertical-align: middle;\n",
       "    }\n",
       "\n",
       "    .dataframe tbody tr th {\n",
       "        vertical-align: top;\n",
       "    }\n",
       "\n",
       "    .dataframe thead th {\n",
       "        text-align: right;\n",
       "    }\n",
       "</style>\n",
       "<table border=\"1\" class=\"dataframe\">\n",
       "  <thead>\n",
       "    <tr style=\"text-align: right;\">\n",
       "      <th></th>\n",
       "      <th>ID</th>\n",
       "      <th>y</th>\n",
       "      <th>X0</th>\n",
       "      <th>X1</th>\n",
       "      <th>X2</th>\n",
       "      <th>X3</th>\n",
       "      <th>X4</th>\n",
       "      <th>X5</th>\n",
       "      <th>X6</th>\n",
       "      <th>X8</th>\n",
       "      <th>...</th>\n",
       "      <th>X375</th>\n",
       "      <th>X376</th>\n",
       "      <th>X377</th>\n",
       "      <th>X378</th>\n",
       "      <th>X379</th>\n",
       "      <th>X380</th>\n",
       "      <th>X382</th>\n",
       "      <th>X383</th>\n",
       "      <th>X384</th>\n",
       "      <th>X385</th>\n",
       "    </tr>\n",
       "  </thead>\n",
       "  <tbody>\n",
       "    <tr>\n",
       "      <td>0</td>\n",
       "      <td>0</td>\n",
       "      <td>130.81</td>\n",
       "      <td>k</td>\n",
       "      <td>v</td>\n",
       "      <td>at</td>\n",
       "      <td>a</td>\n",
       "      <td>d</td>\n",
       "      <td>u</td>\n",
       "      <td>j</td>\n",
       "      <td>o</td>\n",
       "      <td>...</td>\n",
       "      <td>0</td>\n",
       "      <td>0</td>\n",
       "      <td>1</td>\n",
       "      <td>0</td>\n",
       "      <td>0</td>\n",
       "      <td>0</td>\n",
       "      <td>0</td>\n",
       "      <td>0</td>\n",
       "      <td>0</td>\n",
       "      <td>0</td>\n",
       "    </tr>\n",
       "    <tr>\n",
       "      <td>1</td>\n",
       "      <td>6</td>\n",
       "      <td>88.53</td>\n",
       "      <td>k</td>\n",
       "      <td>t</td>\n",
       "      <td>av</td>\n",
       "      <td>e</td>\n",
       "      <td>d</td>\n",
       "      <td>y</td>\n",
       "      <td>l</td>\n",
       "      <td>o</td>\n",
       "      <td>...</td>\n",
       "      <td>1</td>\n",
       "      <td>0</td>\n",
       "      <td>0</td>\n",
       "      <td>0</td>\n",
       "      <td>0</td>\n",
       "      <td>0</td>\n",
       "      <td>0</td>\n",
       "      <td>0</td>\n",
       "      <td>0</td>\n",
       "      <td>0</td>\n",
       "    </tr>\n",
       "    <tr>\n",
       "      <td>2</td>\n",
       "      <td>7</td>\n",
       "      <td>76.26</td>\n",
       "      <td>az</td>\n",
       "      <td>w</td>\n",
       "      <td>n</td>\n",
       "      <td>c</td>\n",
       "      <td>d</td>\n",
       "      <td>x</td>\n",
       "      <td>j</td>\n",
       "      <td>x</td>\n",
       "      <td>...</td>\n",
       "      <td>0</td>\n",
       "      <td>0</td>\n",
       "      <td>0</td>\n",
       "      <td>0</td>\n",
       "      <td>0</td>\n",
       "      <td>0</td>\n",
       "      <td>1</td>\n",
       "      <td>0</td>\n",
       "      <td>0</td>\n",
       "      <td>0</td>\n",
       "    </tr>\n",
       "    <tr>\n",
       "      <td>3</td>\n",
       "      <td>9</td>\n",
       "      <td>80.62</td>\n",
       "      <td>az</td>\n",
       "      <td>t</td>\n",
       "      <td>n</td>\n",
       "      <td>f</td>\n",
       "      <td>d</td>\n",
       "      <td>x</td>\n",
       "      <td>l</td>\n",
       "      <td>e</td>\n",
       "      <td>...</td>\n",
       "      <td>0</td>\n",
       "      <td>0</td>\n",
       "      <td>0</td>\n",
       "      <td>0</td>\n",
       "      <td>0</td>\n",
       "      <td>0</td>\n",
       "      <td>0</td>\n",
       "      <td>0</td>\n",
       "      <td>0</td>\n",
       "      <td>0</td>\n",
       "    </tr>\n",
       "    <tr>\n",
       "      <td>4</td>\n",
       "      <td>13</td>\n",
       "      <td>78.02</td>\n",
       "      <td>az</td>\n",
       "      <td>v</td>\n",
       "      <td>n</td>\n",
       "      <td>f</td>\n",
       "      <td>d</td>\n",
       "      <td>h</td>\n",
       "      <td>d</td>\n",
       "      <td>n</td>\n",
       "      <td>...</td>\n",
       "      <td>0</td>\n",
       "      <td>0</td>\n",
       "      <td>0</td>\n",
       "      <td>0</td>\n",
       "      <td>0</td>\n",
       "      <td>0</td>\n",
       "      <td>0</td>\n",
       "      <td>0</td>\n",
       "      <td>0</td>\n",
       "      <td>0</td>\n",
       "    </tr>\n",
       "  </tbody>\n",
       "</table>\n",
       "<p>5 rows × 378 columns</p>\n",
       "</div>"
      ],
      "text/plain": [
       "   ID       y  X0 X1  X2 X3 X4 X5 X6 X8  ...  X375  X376  X377  X378  X379  \\\n",
       "0   0  130.81   k  v  at  a  d  u  j  o  ...     0     0     1     0     0   \n",
       "1   6   88.53   k  t  av  e  d  y  l  o  ...     1     0     0     0     0   \n",
       "2   7   76.26  az  w   n  c  d  x  j  x  ...     0     0     0     0     0   \n",
       "3   9   80.62  az  t   n  f  d  x  l  e  ...     0     0     0     0     0   \n",
       "4  13   78.02  az  v   n  f  d  h  d  n  ...     0     0     0     0     0   \n",
       "\n",
       "   X380  X382  X383  X384  X385  \n",
       "0     0     0     0     0     0  \n",
       "1     0     0     0     0     0  \n",
       "2     0     1     0     0     0  \n",
       "3     0     0     0     0     0  \n",
       "4     0     0     0     0     0  \n",
       "\n",
       "[5 rows x 378 columns]"
      ]
     },
     "execution_count": 4,
     "metadata": {},
     "output_type": "execute_result"
    }
   ],
   "source": [
    "#print first five records\n",
    "df_train.head()"
   ]
  },
  {
   "cell_type": "code",
   "execution_count": 5,
   "metadata": {},
   "outputs": [
    {
     "data": {
      "text/plain": [
       "Index(['ID', 'y', 'X0', 'X1', 'X2', 'X3', 'X4', 'X5', 'X6', 'X8',\n",
       "       ...\n",
       "       'X375', 'X376', 'X377', 'X378', 'X379', 'X380', 'X382', 'X383', 'X384',\n",
       "       'X385'],\n",
       "      dtype='object', length=378)"
      ]
     },
     "execution_count": 5,
     "metadata": {},
     "output_type": "execute_result"
    }
   ],
   "source": [
    "df_train.columns"
   ]
  },
  {
   "cell_type": "code",
   "execution_count": 6,
   "metadata": {},
   "outputs": [
    {
     "data": {
      "text/plain": [
       "0     k\n",
       "1     k\n",
       "2    az\n",
       "3    az\n",
       "4    az\n",
       "Name: X0, dtype: object"
      ]
     },
     "execution_count": 6,
     "metadata": {},
     "output_type": "execute_result"
    }
   ],
   "source": [
    "df_train['X0'].head()"
   ]
  },
  {
   "cell_type": "code",
   "execution_count": 7,
   "metadata": {},
   "outputs": [
    {
     "name": "stdout",
     "output_type": "stream",
     "text": [
      "<class 'pandas.core.frame.DataFrame'>\n",
      "RangeIndex: 4209 entries, 0 to 4208\n",
      "Columns: 378 entries, ID to X385\n",
      "dtypes: float64(1), int64(369), object(8)\n",
      "memory usage: 12.1+ MB\n"
     ]
    }
   ],
   "source": [
    "# info column data types\n",
    "df_train.info()"
   ]
  },
  {
   "cell_type": "code",
   "execution_count": 8,
   "metadata": {},
   "outputs": [
    {
     "data": {
      "text/html": [
       "<div>\n",
       "<style scoped>\n",
       "    .dataframe tbody tr th:only-of-type {\n",
       "        vertical-align: middle;\n",
       "    }\n",
       "\n",
       "    .dataframe tbody tr th {\n",
       "        vertical-align: top;\n",
       "    }\n",
       "\n",
       "    .dataframe thead th {\n",
       "        text-align: right;\n",
       "    }\n",
       "</style>\n",
       "<table border=\"1\" class=\"dataframe\">\n",
       "  <thead>\n",
       "    <tr style=\"text-align: right;\">\n",
       "      <th></th>\n",
       "      <th>count</th>\n",
       "      <th>mean</th>\n",
       "      <th>std</th>\n",
       "      <th>min</th>\n",
       "      <th>25%</th>\n",
       "      <th>50%</th>\n",
       "      <th>75%</th>\n",
       "      <th>max</th>\n",
       "    </tr>\n",
       "  </thead>\n",
       "  <tbody>\n",
       "    <tr>\n",
       "      <td>ID</td>\n",
       "      <td>4209.0</td>\n",
       "      <td>4205.960798</td>\n",
       "      <td>2437.608688</td>\n",
       "      <td>0.00</td>\n",
       "      <td>2095.00</td>\n",
       "      <td>4220.00</td>\n",
       "      <td>6314.00</td>\n",
       "      <td>8417.00</td>\n",
       "    </tr>\n",
       "    <tr>\n",
       "      <td>y</td>\n",
       "      <td>4209.0</td>\n",
       "      <td>100.669318</td>\n",
       "      <td>12.679381</td>\n",
       "      <td>72.11</td>\n",
       "      <td>90.82</td>\n",
       "      <td>99.15</td>\n",
       "      <td>109.01</td>\n",
       "      <td>265.32</td>\n",
       "    </tr>\n",
       "    <tr>\n",
       "      <td>X10</td>\n",
       "      <td>4209.0</td>\n",
       "      <td>0.013305</td>\n",
       "      <td>0.114590</td>\n",
       "      <td>0.00</td>\n",
       "      <td>0.00</td>\n",
       "      <td>0.00</td>\n",
       "      <td>0.00</td>\n",
       "      <td>1.00</td>\n",
       "    </tr>\n",
       "    <tr>\n",
       "      <td>X11</td>\n",
       "      <td>4209.0</td>\n",
       "      <td>0.000000</td>\n",
       "      <td>0.000000</td>\n",
       "      <td>0.00</td>\n",
       "      <td>0.00</td>\n",
       "      <td>0.00</td>\n",
       "      <td>0.00</td>\n",
       "      <td>0.00</td>\n",
       "    </tr>\n",
       "    <tr>\n",
       "      <td>X12</td>\n",
       "      <td>4209.0</td>\n",
       "      <td>0.075077</td>\n",
       "      <td>0.263547</td>\n",
       "      <td>0.00</td>\n",
       "      <td>0.00</td>\n",
       "      <td>0.00</td>\n",
       "      <td>0.00</td>\n",
       "      <td>1.00</td>\n",
       "    </tr>\n",
       "    <tr>\n",
       "      <td>...</td>\n",
       "      <td>...</td>\n",
       "      <td>...</td>\n",
       "      <td>...</td>\n",
       "      <td>...</td>\n",
       "      <td>...</td>\n",
       "      <td>...</td>\n",
       "      <td>...</td>\n",
       "      <td>...</td>\n",
       "    </tr>\n",
       "    <tr>\n",
       "      <td>X380</td>\n",
       "      <td>4209.0</td>\n",
       "      <td>0.008078</td>\n",
       "      <td>0.089524</td>\n",
       "      <td>0.00</td>\n",
       "      <td>0.00</td>\n",
       "      <td>0.00</td>\n",
       "      <td>0.00</td>\n",
       "      <td>1.00</td>\n",
       "    </tr>\n",
       "    <tr>\n",
       "      <td>X382</td>\n",
       "      <td>4209.0</td>\n",
       "      <td>0.007603</td>\n",
       "      <td>0.086872</td>\n",
       "      <td>0.00</td>\n",
       "      <td>0.00</td>\n",
       "      <td>0.00</td>\n",
       "      <td>0.00</td>\n",
       "      <td>1.00</td>\n",
       "    </tr>\n",
       "    <tr>\n",
       "      <td>X383</td>\n",
       "      <td>4209.0</td>\n",
       "      <td>0.001663</td>\n",
       "      <td>0.040752</td>\n",
       "      <td>0.00</td>\n",
       "      <td>0.00</td>\n",
       "      <td>0.00</td>\n",
       "      <td>0.00</td>\n",
       "      <td>1.00</td>\n",
       "    </tr>\n",
       "    <tr>\n",
       "      <td>X384</td>\n",
       "      <td>4209.0</td>\n",
       "      <td>0.000475</td>\n",
       "      <td>0.021796</td>\n",
       "      <td>0.00</td>\n",
       "      <td>0.00</td>\n",
       "      <td>0.00</td>\n",
       "      <td>0.00</td>\n",
       "      <td>1.00</td>\n",
       "    </tr>\n",
       "    <tr>\n",
       "      <td>X385</td>\n",
       "      <td>4209.0</td>\n",
       "      <td>0.001426</td>\n",
       "      <td>0.037734</td>\n",
       "      <td>0.00</td>\n",
       "      <td>0.00</td>\n",
       "      <td>0.00</td>\n",
       "      <td>0.00</td>\n",
       "      <td>1.00</td>\n",
       "    </tr>\n",
       "  </tbody>\n",
       "</table>\n",
       "<p>370 rows × 8 columns</p>\n",
       "</div>"
      ],
      "text/plain": [
       "       count         mean          std    min      25%      50%      75%  \\\n",
       "ID    4209.0  4205.960798  2437.608688   0.00  2095.00  4220.00  6314.00   \n",
       "y     4209.0   100.669318    12.679381  72.11    90.82    99.15   109.01   \n",
       "X10   4209.0     0.013305     0.114590   0.00     0.00     0.00     0.00   \n",
       "X11   4209.0     0.000000     0.000000   0.00     0.00     0.00     0.00   \n",
       "X12   4209.0     0.075077     0.263547   0.00     0.00     0.00     0.00   \n",
       "...      ...          ...          ...    ...      ...      ...      ...   \n",
       "X380  4209.0     0.008078     0.089524   0.00     0.00     0.00     0.00   \n",
       "X382  4209.0     0.007603     0.086872   0.00     0.00     0.00     0.00   \n",
       "X383  4209.0     0.001663     0.040752   0.00     0.00     0.00     0.00   \n",
       "X384  4209.0     0.000475     0.021796   0.00     0.00     0.00     0.00   \n",
       "X385  4209.0     0.001426     0.037734   0.00     0.00     0.00     0.00   \n",
       "\n",
       "          max  \n",
       "ID    8417.00  \n",
       "y      265.32  \n",
       "X10      1.00  \n",
       "X11      0.00  \n",
       "X12      1.00  \n",
       "...       ...  \n",
       "X380     1.00  \n",
       "X382     1.00  \n",
       "X383     1.00  \n",
       "X384     1.00  \n",
       "X385     1.00  \n",
       "\n",
       "[370 rows x 8 columns]"
      ]
     },
     "execution_count": 8,
     "metadata": {},
     "output_type": "execute_result"
    }
   ],
   "source": [
    "# describe statistical parameters\n",
    "df_train.describe().T"
   ]
  },
  {
   "cell_type": "code",
   "execution_count": 9,
   "metadata": {},
   "outputs": [
    {
     "data": {
      "text/plain": [
       "0    130.81\n",
       "1     88.53\n",
       "2     76.26\n",
       "3     80.62\n",
       "4     78.02\n",
       "Name: y, dtype: float64"
      ]
     },
     "execution_count": 9,
     "metadata": {},
     "output_type": "execute_result"
    }
   ],
   "source": [
    "df_train['y'].head()"
   ]
  },
  {
   "cell_type": "code",
   "execution_count": 10,
   "metadata": {},
   "outputs": [
    {
     "data": {
      "image/png": "[encoded data removed]",
      "text/plain": [
       "<Figure size 432x288 with 1 Axes>"
      ]
     },
     "metadata": {
      "needs_background": "light"
     },
     "output_type": "display_data"
    }
   ],
   "source": [
    "#Plot Histograms of Y\n",
    "#Y=df_train[df_train['y']<150]\n",
    "Y = df_train['y'].sort_values()\n",
    "range = (0, 100) \n",
    "bins = 40\n",
    "plt.hist(Y, bins, color = 'green',histtype = 'bar', rwidth = 0.8) \n",
    "  \n",
    "# x-axis label \n",
    "plt.xlabel('Time on Test Bench') \n",
    "# frequency label \n",
    "plt.ylabel('Count') \n",
    "# plot title \n",
    "plt.title('Mercedes Benz histogram') \n",
    "  \n",
    "# function to show the plot \n",
    "plt.show() "
   ]
  },
  {
   "cell_type": "code",
   "execution_count": 11,
   "metadata": {},
   "outputs": [
    {
     "data": {
      "text/plain": [
       "[<matplotlib.lines.Line2D at 0x22cfce2c508>]"
      ]
     },
     "execution_count": 11,
     "metadata": {},
     "output_type": "execute_result"
    },
    {
     "data": {
      "image/png": "[encoded data removed]",
      "text/plain": [
       "<Figure size 432x288 with 1 Axes>"
      ]
     },
     "metadata": {
      "needs_background": "light"
     },
     "output_type": "display_data"
    }
   ],
   "source": [
    "#plot Y\n",
    "x= np.arange(0,4209,1)\n",
    "plt.plot(x,Y)"
   ]
  },
  {
   "cell_type": "code",
   "execution_count": 12,
   "metadata": {},
   "outputs": [],
   "source": [
    "#df_train_f=df_train[df_train['y']<150]\n",
    "#df_train_f['y'].max()"
   ]
  },
  {
   "cell_type": "markdown",
   "metadata": {},
   "source": [
    "# Find null values"
   ]
  },
  {
   "cell_type": "code",
   "execution_count": 13,
   "metadata": {},
   "outputs": [
    {
     "data": {
      "text/plain": [
       "ID      0\n",
       "y       0\n",
       "X0      0\n",
       "X1      0\n",
       "X2      0\n",
       "       ..\n",
       "X380    0\n",
       "X382    0\n",
       "X383    0\n",
       "X384    0\n",
       "X385    0\n",
       "Length: 378, dtype: int64"
      ]
     },
     "execution_count": 13,
     "metadata": {},
     "output_type": "execute_result"
    }
   ],
   "source": [
    "#check null values\n",
    "df_train.isnull().sum().T"
   ]
  },
  {
   "cell_type": "markdown",
   "metadata": {},
   "source": [
    "# Columns with zero variance"
   ]
  },
  {
   "cell_type": "code",
   "execution_count": 14,
   "metadata": {},
   "outputs": [
    {
     "data": {
      "text/plain": [
       "ID      False\n",
       "y       False\n",
       "X10     False\n",
       "X11      True\n",
       "X12     False\n",
       "        ...  \n",
       "X380    False\n",
       "X382    False\n",
       "X383    False\n",
       "X384    False\n",
       "X385    False\n",
       "Length: 370, dtype: bool"
      ]
     },
     "execution_count": 14,
     "metadata": {},
     "output_type": "execute_result"
    }
   ],
   "source": [
    "#Check columns with zero variance\n",
    "df_train.var()==0"
   ]
  },
  {
   "cell_type": "code",
   "execution_count": 15,
   "metadata": {},
   "outputs": [
    {
     "name": "stdout",
     "output_type": "stream",
     "text": [
      "X11\n",
      "X93\n",
      "X107\n",
      "X233\n",
      "X235\n",
      "X268\n",
      "X289\n",
      "X290\n",
      "X293\n",
      "X297\n",
      "X330\n",
      "X347\n"
     ]
    }
   ],
   "source": [
    "# If any feature has no variance max=min, it is considered an unhelpful feature.\n",
    "unhelpful_features = []\n",
    "for feature in df_train:\n",
    "    if max(df_train[feature]) == min(df_train[feature]):\n",
    "    #if df_train[feature].var()==0:\n",
    "        print(feature)\n",
    "        unhelpful_features.append(feature)"
   ]
  },
  {
   "cell_type": "code",
   "execution_count": 16,
   "metadata": {},
   "outputs": [
    {
     "data": {
      "text/plain": [
       "1"
      ]
     },
     "execution_count": 16,
     "metadata": {},
     "output_type": "execute_result"
    }
   ],
   "source": [
    "# for zero variance columns length of unique values is 1\n",
    "len(np.unique(df_train['X93']))"
   ]
  },
  {
   "cell_type": "code",
   "execution_count": 17,
   "metadata": {},
   "outputs": [],
   "source": [
    "# Drop unhelpful features\n",
    "df_train = df_train.drop(unhelpful_features,1)"
   ]
  },
  {
   "cell_type": "code",
   "execution_count": 18,
   "metadata": {},
   "outputs": [
    {
     "data": {
      "text/plain": [
       "0    130.81\n",
       "1     88.53\n",
       "2     76.26\n",
       "3     80.62\n",
       "4     78.02\n",
       "Name: y, dtype: float64"
      ]
     },
     "execution_count": 18,
     "metadata": {},
     "output_type": "execute_result"
    }
   ],
   "source": [
    "df_train['y'].head()"
   ]
  },
  {
   "cell_type": "code",
   "execution_count": 19,
   "metadata": {},
   "outputs": [
    {
     "name": "stdout",
     "output_type": "stream",
     "text": [
      "ID\n",
      "y\n",
      "X0\n",
      "X1\n",
      "X2\n",
      "X3\n",
      "X4\n",
      "X5\n",
      "X6\n",
      "X8\n",
      "['ID', 'y', 'X0', 'X1', 'X2', 'X3', 'X4', 'X5', 'X6', 'X8']\n"
     ]
    },
    {
     "data": {
      "text/plain": [
       "0    130.81\n",
       "1     88.53\n",
       "2     76.26\n",
       "3     80.62\n",
       "4     78.02\n",
       "Name: y, dtype: float64"
      ]
     },
     "execution_count": 19,
     "metadata": {},
     "output_type": "execute_result"
    }
   ],
   "source": [
    "# Find the categorical features, which will need to be converted into dummy features.\n",
    "dummies = []\n",
    "for column in df_train:\n",
    "    if max(df_train[column]) != 1:\n",
    "        print(column)\n",
    "        dummies.append(column)\n",
    "print(dummies)\n",
    "df_train['y'].head()"
   ]
  },
  {
   "cell_type": "code",
   "execution_count": 20,
   "metadata": {},
   "outputs": [
    {
     "name": "stdout",
     "output_type": "stream",
     "text": [
      "['X6', 'X5', 'X0', 'X1', 'X4', 'X3', 'X8', 'X2']\n"
     ]
    }
   ],
   "source": [
    "# remove ID , y to get the list of feature columns\n",
    "usable_columns = list(set(dummies) - set(['ID', 'y']))\n",
    "print(usable_columns)"
   ]
  },
  {
   "cell_type": "code",
   "execution_count": 21,
   "metadata": {},
   "outputs": [],
   "source": [
    "# label encode categorical data in train_f dataset\n",
    "label_encoder = LabelEncoder()\n",
    "df_train['X0'] = label_encoder.fit_transform(df_train['X0'])\n",
    "df_train['X1'] = label_encoder.fit_transform(df_train['X1'])\n",
    "df_train['X2'] = label_encoder.fit_transform(df_train['X2'])\n",
    "df_train['X3'] = label_encoder.fit_transform(df_train['X3'])\n",
    "df_train['X4'] = label_encoder.fit_transform(df_train['X4'])\n",
    "df_train['X5'] = label_encoder.fit_transform(df_train['X5'])\n",
    "df_train['X6'] = label_encoder.fit_transform(df_train['X6'])\n",
    "df_train['X8'] = label_encoder.fit_transform(df_train['X8'])"
   ]
  },
  {
   "cell_type": "code",
   "execution_count": 22,
   "metadata": {},
   "outputs": [],
   "source": [
    "# label encode categorical data in test dataset\n",
    "df_test['X0'] = label_encoder.fit_transform(df_test['X0'])\n",
    "df_test['X1'] = label_encoder.fit_transform(df_test['X1'])\n",
    "df_test['X2'] = label_encoder.fit_transform(df_test['X2'])\n",
    "df_test['X3'] = label_encoder.fit_transform(df_test['X3'])\n",
    "df_test['X4'] = label_encoder.fit_transform(df_test['X4'])\n",
    "df_test['X5'] = label_encoder.fit_transform(df_test['X5'])\n",
    "df_test['X6'] = label_encoder.fit_transform(df_test['X6'])\n",
    "df_test['X8'] = label_encoder.fit_transform(df_test['X8'])"
   ]
  },
  {
   "cell_type": "code",
   "execution_count": 23,
   "metadata": {},
   "outputs": [
    {
     "data": {
      "text/plain": [
       "0    130.81\n",
       "1     88.53\n",
       "2     76.26\n",
       "3     80.62\n",
       "4     78.02\n",
       "Name: y, dtype: float64"
      ]
     },
     "execution_count": 23,
     "metadata": {},
     "output_type": "execute_result"
    }
   ],
   "source": [
    "#print first five records of feature columns\n",
    "df_train[usable_columns].head()\n",
    "df_train['y'].head()"
   ]
  },
  {
   "cell_type": "code",
   "execution_count": 24,
   "metadata": {},
   "outputs": [
    {
     "data": {
      "text/html": [
       "<div>\n",
       "<style scoped>\n",
       "    .dataframe tbody tr th:only-of-type {\n",
       "        vertical-align: middle;\n",
       "    }\n",
       "\n",
       "    .dataframe tbody tr th {\n",
       "        vertical-align: top;\n",
       "    }\n",
       "\n",
       "    .dataframe thead th {\n",
       "        text-align: right;\n",
       "    }\n",
       "</style>\n",
       "<table border=\"1\" class=\"dataframe\">\n",
       "  <thead>\n",
       "    <tr style=\"text-align: right;\">\n",
       "      <th></th>\n",
       "      <th>X6</th>\n",
       "      <th>X5</th>\n",
       "      <th>X0</th>\n",
       "      <th>X1</th>\n",
       "      <th>X4</th>\n",
       "      <th>X3</th>\n",
       "      <th>X8</th>\n",
       "      <th>X2</th>\n",
       "    </tr>\n",
       "  </thead>\n",
       "  <tbody>\n",
       "    <tr>\n",
       "      <td>X6</td>\n",
       "      <td>1.000000</td>\n",
       "      <td>-0.019917</td>\n",
       "      <td>0.037549</td>\n",
       "      <td>-0.079119</td>\n",
       "      <td>0.027854</td>\n",
       "      <td>-0.048468</td>\n",
       "      <td>0.018565</td>\n",
       "      <td>0.065778</td>\n",
       "    </tr>\n",
       "    <tr>\n",
       "      <td>X5</td>\n",
       "      <td>-0.019917</td>\n",
       "      <td>1.000000</td>\n",
       "      <td>0.012293</td>\n",
       "      <td>0.046417</td>\n",
       "      <td>0.039778</td>\n",
       "      <td>-0.008161</td>\n",
       "      <td>0.012746</td>\n",
       "      <td>-0.017722</td>\n",
       "    </tr>\n",
       "    <tr>\n",
       "      <td>X0</td>\n",
       "      <td>0.037549</td>\n",
       "      <td>0.012293</td>\n",
       "      <td>1.000000</td>\n",
       "      <td>-0.271123</td>\n",
       "      <td>0.017988</td>\n",
       "      <td>-0.070645</td>\n",
       "      <td>0.047735</td>\n",
       "      <td>-0.139904</td>\n",
       "    </tr>\n",
       "    <tr>\n",
       "      <td>X1</td>\n",
       "      <td>-0.079119</td>\n",
       "      <td>0.046417</td>\n",
       "      <td>-0.271123</td>\n",
       "      <td>1.000000</td>\n",
       "      <td>-0.020724</td>\n",
       "      <td>0.205657</td>\n",
       "      <td>-0.000306</td>\n",
       "      <td>0.088266</td>\n",
       "    </tr>\n",
       "    <tr>\n",
       "      <td>X4</td>\n",
       "      <td>0.027854</td>\n",
       "      <td>0.039778</td>\n",
       "      <td>0.017988</td>\n",
       "      <td>-0.020724</td>\n",
       "      <td>1.000000</td>\n",
       "      <td>0.015298</td>\n",
       "      <td>-0.008909</td>\n",
       "      <td>0.002289</td>\n",
       "    </tr>\n",
       "    <tr>\n",
       "      <td>X3</td>\n",
       "      <td>-0.048468</td>\n",
       "      <td>-0.008161</td>\n",
       "      <td>-0.070645</td>\n",
       "      <td>0.205657</td>\n",
       "      <td>0.015298</td>\n",
       "      <td>1.000000</td>\n",
       "      <td>-0.001249</td>\n",
       "      <td>-0.093546</td>\n",
       "    </tr>\n",
       "    <tr>\n",
       "      <td>X8</td>\n",
       "      <td>0.018565</td>\n",
       "      <td>0.012746</td>\n",
       "      <td>0.047735</td>\n",
       "      <td>-0.000306</td>\n",
       "      <td>-0.008909</td>\n",
       "      <td>-0.001249</td>\n",
       "      <td>1.000000</td>\n",
       "      <td>-0.069932</td>\n",
       "    </tr>\n",
       "    <tr>\n",
       "      <td>X2</td>\n",
       "      <td>0.065778</td>\n",
       "      <td>-0.017722</td>\n",
       "      <td>-0.139904</td>\n",
       "      <td>0.088266</td>\n",
       "      <td>0.002289</td>\n",
       "      <td>-0.093546</td>\n",
       "      <td>-0.069932</td>\n",
       "      <td>1.000000</td>\n",
       "    </tr>\n",
       "  </tbody>\n",
       "</table>\n",
       "</div>"
      ],
      "text/plain": [
       "          X6        X5        X0        X1        X4        X3        X8  \\\n",
       "X6  1.000000 -0.019917  0.037549 -0.079119  0.027854 -0.048468  0.018565   \n",
       "X5 -0.019917  1.000000  0.012293  0.046417  0.039778 -0.008161  0.012746   \n",
       "X0  0.037549  0.012293  1.000000 -0.271123  0.017988 -0.070645  0.047735   \n",
       "X1 -0.079119  0.046417 -0.271123  1.000000 -0.020724  0.205657 -0.000306   \n",
       "X4  0.027854  0.039778  0.017988 -0.020724  1.000000  0.015298 -0.008909   \n",
       "X3 -0.048468 -0.008161 -0.070645  0.205657  0.015298  1.000000 -0.001249   \n",
       "X8  0.018565  0.012746  0.047735 -0.000306 -0.008909 -0.001249  1.000000   \n",
       "X2  0.065778 -0.017722 -0.139904  0.088266  0.002289 -0.093546 -0.069932   \n",
       "\n",
       "          X2  \n",
       "X6  0.065778  \n",
       "X5 -0.017722  \n",
       "X0 -0.139904  \n",
       "X1  0.088266  \n",
       "X4  0.002289  \n",
       "X3 -0.093546  \n",
       "X8 -0.069932  \n",
       "X2  1.000000  "
      ]
     },
     "execution_count": 24,
     "metadata": {},
     "output_type": "execute_result"
    }
   ],
   "source": [
    "# find the correlation of feature columns\n",
    "df_train[usable_columns].corr()"
   ]
  },
  {
   "cell_type": "code",
   "execution_count": 25,
   "metadata": {},
   "outputs": [
    {
     "data": {
      "text/plain": [
       "2    1942\n",
       "5    1076\n",
       "0     440\n",
       "3     290\n",
       "6     241\n",
       "4     163\n",
       "1      57\n",
       "Name: X3, dtype: int64"
      ]
     },
     "execution_count": 25,
     "metadata": {},
     "output_type": "execute_result"
    }
   ],
   "source": [
    "df_train['X3'].value_counts()"
   ]
  },
  {
   "cell_type": "code",
   "execution_count": 26,
   "metadata": {},
   "outputs": [
    {
     "data": {
      "text/plain": [
       "3    4205\n",
       "0       2\n",
       "2       1\n",
       "1       1\n",
       "Name: X4, dtype: int64"
      ]
     },
     "execution_count": 26,
     "metadata": {},
     "output_type": "execute_result"
    }
   ],
   "source": [
    "df_train['X4'].value_counts()"
   ]
  },
  {
   "cell_type": "code",
   "execution_count": 27,
   "metadata": {},
   "outputs": [
    {
     "data": {
      "text/plain": [
       "6     1042\n",
       "9     1039\n",
       "3      625\n",
       "8      488\n",
       "11     478\n",
       "0      206\n",
       "7      190\n",
       "10      43\n",
       "2       38\n",
       "1       28\n",
       "5       20\n",
       "4       12\n",
       "Name: X6, dtype: int64"
      ]
     },
     "execution_count": 27,
     "metadata": {},
     "output_type": "execute_result"
    }
   ],
   "source": [
    "df_train['X6'].value_counts()"
   ]
  },
  {
   "cell_type": "code",
   "execution_count": 28,
   "metadata": {},
   "outputs": [],
   "source": [
    "#usable_columns = ['X0','X1','X2','X5','X8']"
   ]
  },
  {
   "cell_type": "code",
   "execution_count": 29,
   "metadata": {},
   "outputs": [
    {
     "data": {
      "text/plain": [
       "ID      8417.00\n",
       "y        265.32\n",
       "X0        46.00\n",
       "X1        26.00\n",
       "X2        43.00\n",
       "         ...   \n",
       "X380       1.00\n",
       "X382       1.00\n",
       "X383       1.00\n",
       "X384       1.00\n",
       "X385       1.00\n",
       "Length: 366, dtype: float64"
      ]
     },
     "execution_count": 29,
     "metadata": {},
     "output_type": "execute_result"
    }
   ],
   "source": [
    "#df_train=df_train[df_train['y']<150]\n",
    "df_train['y'].head()\n",
    "df_train.max()"
   ]
  },
  {
   "cell_type": "code",
   "execution_count": 30,
   "metadata": {},
   "outputs": [],
   "source": [
    "#split data into train and test(valid)\n",
    "X = df_train[usable_columns]\n",
    "y = df_train['y']\n",
    "X_train, X_valid, y_train, y_valid = train_test_split(X,y , test_size=0.2,random_state=4242)"
   ]
  },
  {
   "cell_type": "code",
   "execution_count": 31,
   "metadata": {},
   "outputs": [
    {
     "name": "stdout",
     "output_type": "stream",
     "text": [
      "(3367, 8)\n",
      "(3367,)\n"
     ]
    }
   ],
   "source": [
    "#print shape of train data\n",
    "print(X_train.shape)\n",
    "print(y_train.shape)"
   ]
  },
  {
   "cell_type": "code",
   "execution_count": 32,
   "metadata": {},
   "outputs": [
    {
     "name": "stdout",
     "output_type": "stream",
     "text": [
      "(842, 8)\n",
      "(842,)\n"
     ]
    }
   ],
   "source": [
    "#print shape of test data\n",
    "print(X_valid.shape)\n",
    "print(y_valid.shape)"
   ]
  },
  {
   "cell_type": "code",
   "execution_count": 33,
   "metadata": {},
   "outputs": [
    {
     "data": {
      "text/plain": [
       "0    130.81\n",
       "1     88.53\n",
       "2     76.26\n",
       "3     80.62\n",
       "4     78.02\n",
       "Name: y, dtype: float64"
      ]
     },
     "execution_count": 33,
     "metadata": {},
     "output_type": "execute_result"
    }
   ],
   "source": [
    "#print first five records of Y\n",
    "df_train['y'].head()"
   ]
  },
  {
   "cell_type": "code",
   "execution_count": 34,
   "metadata": {},
   "outputs": [],
   "source": [
    "#stanadarise the data\n",
    "#sc = StandardScaler()\n",
    "#X_train = sc.fit_transform(X_train)\n",
    "#X_valid = sc.fit_transform(X_valid)"
   ]
  },
  {
   "cell_type": "code",
   "execution_count": 35,
   "metadata": {},
   "outputs": [],
   "source": [
    "# find the pricipal components\n",
    "n_comp = 2\n",
    "pca = PCA(n_components=n_comp, random_state=42)\n",
    "pca2_results_train = pca.fit_transform(X_train)\n",
    "pca2_results_test = pca.transform(X_valid)"
   ]
  },
  {
   "cell_type": "code",
   "execution_count": 36,
   "metadata": {},
   "outputs": [],
   "source": [
    "#for efficient use of the xgboost model , convert dataset to the DMatrix format\n",
    "#Dmatrix is the data structure unique for the xgboost algorithm\n",
    "\n",
    "d_train = xgb.DMatrix(pca2_results_train, label=y_train)\n",
    "d_valid = xgb.DMatrix(pca2_results_test)"
   ]
  },
  {
   "cell_type": "code",
   "execution_count": 37,
   "metadata": {},
   "outputs": [],
   "source": [
    "## Initialise a set of parameters\n",
    "param = {'eta': 0.02, 'max_depth' : 4, 'objective' :'reg:linear','eval_metric': 'rmse'} ##### , 'num_class' : 0  }"
   ]
  },
  {
   "cell_type": "code",
   "execution_count": 38,
   "metadata": {},
   "outputs": [
    {
     "name": "stdout",
     "output_type": "stream",
     "text": [
      "[11:07:10] WARNING: C:/Users/Administrator/workspace/xgboost-win64_release_1.2.0/src/objective/regression_obj.cu:174: reg:linear is now deprecated in favor of reg:squarederror.\n",
      "[11:07:10] WARNING: C:/Users/Administrator/workspace/xgboost-win64_release_1.2.0/src/objective/regression_obj.cu:174: reg:linear is now deprecated in favor of reg:squarederror.\n"
     ]
    }
   ],
   "source": [
    "# Train the model\n",
    "xgb_model  = xgb.train(param, d_train , 20 )"
   ]
  },
  {
   "cell_type": "markdown",
   "metadata": {},
   "source": [
    "# Predict values for test data and calculte accuracy for train.csv "
   ]
  },
  {
   "cell_type": "code",
   "execution_count": 39,
   "metadata": {},
   "outputs": [],
   "source": [
    "# predict the values for test from training data\n",
    "y_xgb_pred_valid = xgb_model.predict(d_valid)"
   ]
  },
  {
   "cell_type": "code",
   "execution_count": 40,
   "metadata": {},
   "outputs": [
    {
     "name": "stdout",
     "output_type": "stream",
     "text": [
      "The test accuracy for xgb model on Mercedes Benz is :\n",
      "======================================================\n",
      "-31.031660151070106\n"
     ]
    }
   ],
   "source": [
    "# Calculate accuracy , Evaluate the model.\n",
    "print(\"The test accuracy for xgb model on Mercedes Benz is :\")\n",
    "print(\"======================================================\")\n",
    "\n",
    "print(r2_score(y_valid, y_xgb_pred_valid))"
   ]
  },
  {
   "cell_type": "code",
   "execution_count": 41,
   "metadata": {},
   "outputs": [
    {
     "name": "stdout",
     "output_type": "stream",
     "text": [
      "67.12722993616002\n"
     ]
    }
   ],
   "source": [
    "# Calculate and print RMSE \n",
    "rmse = sqrt(mean_squared_error(y_valid, y_xgb_pred_valid))\n",
    "print(rmse)"
   ]
  },
  {
   "cell_type": "markdown",
   "metadata": {},
   "source": [
    "# Predict values for training data and calculte accuracy for train.csv"
   ]
  },
  {
   "cell_type": "code",
   "execution_count": 42,
   "metadata": {},
   "outputs": [],
   "source": [
    "# predict the values for training from training data\n",
    "y_xgb_pred_train = xgb_model.predict(d_train)"
   ]
  },
  {
   "cell_type": "code",
   "execution_count": 43,
   "metadata": {},
   "outputs": [
    {
     "name": "stdout",
     "output_type": "stream",
     "text": [
      "The test accuracy for xgb model on Mercedes Benz is :\n",
      "======================================================\n",
      "-27.00535353677592\n"
     ]
    }
   ],
   "source": [
    "# Calculate accuracy , Evaluate the model for training data\n",
    "print(\"The test accuracy for xgb model on Mercedes Benz is :\")\n",
    "print(\"======================================================\")\n",
    "\n",
    "print(r2_score(y_train, y_xgb_pred_train))"
   ]
  },
  {
   "cell_type": "code",
   "execution_count": 44,
   "metadata": {},
   "outputs": [
    {
     "name": "stdout",
     "output_type": "stream",
     "text": [
      "68.10591284135174\n"
     ]
    }
   ],
   "source": [
    "# Calculate and print RMSE \n",
    "rmse = sqrt(mean_squared_error(y_train, y_xgb_pred_train))\n",
    "print(rmse)"
   ]
  },
  {
   "cell_type": "markdown",
   "metadata": {},
   "source": [
    "# Predict Values for test data(test.csv) using Training model"
   ]
  },
  {
   "cell_type": "code",
   "execution_count": 45,
   "metadata": {},
   "outputs": [],
   "source": [
    "# Test data\n",
    "X_test=df_test[usable_columns]"
   ]
  },
  {
   "cell_type": "code",
   "execution_count": 46,
   "metadata": {},
   "outputs": [],
   "source": [
    "# find the pricipal components for test data\n",
    "n_comp = 2\n",
    "pca = PCA(n_components=n_comp, random_state=42)\n",
    "pca2_X_test = pca.fit_transform(X_test)\n",
    "#pca2_results_test = pca.transform(X_valid)"
   ]
  },
  {
   "cell_type": "code",
   "execution_count": 47,
   "metadata": {},
   "outputs": [],
   "source": [
    "# Creating DMatrices for Xgboost training with test data\n",
    "d_test = xgb.DMatrix(pca2_X_test)"
   ]
  },
  {
   "cell_type": "code",
   "execution_count": 48,
   "metadata": {},
   "outputs": [],
   "source": [
    "# predict the values for test data\n",
    "X_test_pred = xgb_model.predict(d_test)"
   ]
  },
  {
   "cell_type": "code",
   "execution_count": 49,
   "metadata": {},
   "outputs": [
    {
     "name": "stdout",
     "output_type": "stream",
     "text": [
      "[26.246511 32.40275  33.45823  ... 35.043137 36.793114 32.40275 ]\n"
     ]
    }
   ],
   "source": [
    "print(X_test_pred)"
   ]
  }
 ],
 "metadata": {
  "kernelspec": {
   "display_name": "Python 3",
   "language": "python",
   "name": "python3"
  },
  "language_info": {
   "codemirror_mode": {
    "name": "ipython",
    "version": 3
   },
   "file_extension": ".py",
   "mimetype": "text/x-python",
   "name": "python",
   "nbconvert_exporter": "python",
   "pygments_lexer": "ipython3",
   "version": "3.7.4"
  }
 },
 "nbformat": 4,
 "nbformat_minor": 2
}
